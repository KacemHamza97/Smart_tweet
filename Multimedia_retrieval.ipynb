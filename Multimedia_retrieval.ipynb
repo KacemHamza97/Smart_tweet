{
 "cells": [
  {
   "cell_type": "markdown",
   "metadata": {},
   "source": [
    "# Imports"
   ]
  },
  {
   "cell_type": "code",
   "execution_count": 1,
   "metadata": {},
   "outputs": [],
   "source": [
    "# Pandas: DataFrame\n",
    "import pandas as pd\n",
    "\n",
    "# Matplotlib\n",
    "import matplotlib.pyplot as plt\n",
    "import seaborn as sns\n",
    "%matplotlib inline\n",
    "\n",
    "# Sklearn \n",
    "from sklearn.preprocessing import LabelEncoder\n",
    "from sklearn.model_selection import train_test_split\n",
    "from sklearn.metrics import confusion_matrix, classification_report, accuracy_score\n",
    "\n",
    "# Keras\n",
    "from keras.preprocessing.text import Tokenizer\n",
    "from keras.models import Sequential\n",
    "from keras.preprocessing.sequence import pad_sequences\n",
    "from keras.layers import Dense, Dropout, Embedding, LSTM\n",
    "from keras.callbacks import ReduceLROnPlateau, EarlyStopping\n",
    "\n",
    "# Word2vec\n",
    "import gensim\n",
    "\n",
    "# nltk module\n",
    "import nltk\n",
    "from  nltk.stem import SnowballStemmer\n",
    "from nltk.corpus import stopwords\n",
    "\n",
    "# Utilities\n",
    "import re\n",
    "import numpy as np\n",
    "import os\n",
    "from collections import Counter\n",
    "import pickle\n",
    "import itertools"
   ]
  },
  {
   "cell_type": "markdown",
   "metadata": {},
   "source": [
    "#  Prefixed Parameters"
   ]
  },
  {
   "cell_type": "code",
   "execution_count": 2,
   "metadata": {},
   "outputs": [],
   "source": [
    "# Dataset\n",
    "DATASET_COLUMNS = [\"target\", \"id\", \"date\", \"user\", \"text\"]\n",
    "\n",
    "# Keras\n",
    "SEQUENCE_LENGTH = 200\n",
    "EPOCHS = 8\n",
    "BATCH_SIZE = 300\n",
    "\n",
    "#Word2Vect\n",
    "W2V_SIZE = 200\n",
    "W2V_WINDOW = 7\n",
    "W2V_EPOCH = 32\n",
    "W2V_MIN_COUNT = 10\n",
    "\n",
    "# Sentiments\n",
    "SENTIMENTS = {0: \"NEGATIVE\", 2: \"NEUTRAL\", 4: \"POSITIVE\"}\n",
    "SENTIMENT_THRESHOLDS = (0.4, 0.7)\n",
    "\n",
    "# Exports\n",
    "KERAS_MODEL = \"model.h5\"\n",
    "TOKENIZER_MODEL = \"tokenizer.pkl\"\n",
    "ENCODER_MODEL = \"encoder.pkl\""
   ]
  },
  {
   "cell_type": "markdown",
   "metadata": {},
   "source": [
    "### Dataset details\n",
    "\n",
    "    target: the polarity of the tweet (negative:0 , positive: 4)\n",
    "    id:     the id of the tweet\n",
    "    date:   the date of the tweet (Sat May 16 23:58:44 UTC 2009)\n",
    "    user:   the user that tweeted\n",
    "    text:   the text of the tweet\n",
    "\n"
   ]
  },
  {
   "cell_type": "code",
   "execution_count": 3,
   "metadata": {},
   "outputs": [],
   "source": [
    "def data_loading(relative_path):\n",
    "    filenames = os.listdir(relative_path)[0]\n",
    "    dataset_path = os.path.join(relative_path, filenames)\n",
    "    df1 = pd.read_csv(dataset_path, encoding =\"ISO-8859-1\" , skipinitialspace=True, names=DATASET_COLUMNS, nrows=100000)\n",
    "    df2 = pd.read_csv(dataset_path, encoding =\"ISO-8859-1\" , skipinitialspace=True, names=DATASET_COLUMNS,skiprows=800000, nrows=100000)\n",
    "    df = pd.concat([df1, df2])\n",
    "    return df"
   ]
  },
  {
   "cell_type": "code",
   "execution_count": 4,
   "metadata": {},
   "outputs": [],
   "source": [
    "df = data_loading(\"./input\")"
   ]
  },
  {
   "cell_type": "code",
   "execution_count": 5,
   "metadata": {},
   "outputs": [
    {
     "data": {
      "text/html": [
       "<div>\n",
       "<style scoped>\n",
       "    .dataframe tbody tr th:only-of-type {\n",
       "        vertical-align: middle;\n",
       "    }\n",
       "\n",
       "    .dataframe tbody tr th {\n",
       "        vertical-align: top;\n",
       "    }\n",
       "\n",
       "    .dataframe thead th {\n",
       "        text-align: right;\n",
       "    }\n",
       "</style>\n",
       "<table border=\"1\" class=\"dataframe\">\n",
       "  <thead>\n",
       "    <tr style=\"text-align: right;\">\n",
       "      <th></th>\n",
       "      <th>target</th>\n",
       "      <th>id</th>\n",
       "      <th>date</th>\n",
       "      <th>user</th>\n",
       "      <th>text</th>\n",
       "    </tr>\n",
       "  </thead>\n",
       "  <tbody>\n",
       "    <tr>\n",
       "      <th>0</th>\n",
       "      <td>0</td>\n",
       "      <td>1467810369</td>\n",
       "      <td>Mon Apr 06 22:19:45 PDT 2009</td>\n",
       "      <td>_TheSpecialOne_</td>\n",
       "      <td>@switchfoot http://twitpic.com/2y1zl - Awww, t...</td>\n",
       "    </tr>\n",
       "    <tr>\n",
       "      <th>1</th>\n",
       "      <td>0</td>\n",
       "      <td>1467810672</td>\n",
       "      <td>Mon Apr 06 22:19:49 PDT 2009</td>\n",
       "      <td>scotthamilton</td>\n",
       "      <td>is upset that he can't update his Facebook by ...</td>\n",
       "    </tr>\n",
       "    <tr>\n",
       "      <th>2</th>\n",
       "      <td>0</td>\n",
       "      <td>1467810917</td>\n",
       "      <td>Mon Apr 06 22:19:53 PDT 2009</td>\n",
       "      <td>mattycus</td>\n",
       "      <td>@Kenichan I dived many times for the ball. Man...</td>\n",
       "    </tr>\n",
       "    <tr>\n",
       "      <th>3</th>\n",
       "      <td>0</td>\n",
       "      <td>1467811184</td>\n",
       "      <td>Mon Apr 06 22:19:57 PDT 2009</td>\n",
       "      <td>ElleCTF</td>\n",
       "      <td>my whole body feels itchy and like its on fire</td>\n",
       "    </tr>\n",
       "    <tr>\n",
       "      <th>4</th>\n",
       "      <td>0</td>\n",
       "      <td>1467811193</td>\n",
       "      <td>Mon Apr 06 22:19:57 PDT 2009</td>\n",
       "      <td>Karoli</td>\n",
       "      <td>@nationwideclass no, it's not behaving at all....</td>\n",
       "    </tr>\n",
       "    <tr>\n",
       "      <th>5</th>\n",
       "      <td>0</td>\n",
       "      <td>1467811372</td>\n",
       "      <td>Mon Apr 06 22:20:00 PDT 2009</td>\n",
       "      <td>joy_wolf</td>\n",
       "      <td>@Kwesidei not the whole crew</td>\n",
       "    </tr>\n",
       "  </tbody>\n",
       "</table>\n",
       "</div>"
      ],
      "text/plain": [
       "   target          id                          date             user  \\\n",
       "0       0  1467810369  Mon Apr 06 22:19:45 PDT 2009  _TheSpecialOne_   \n",
       "1       0  1467810672  Mon Apr 06 22:19:49 PDT 2009    scotthamilton   \n",
       "2       0  1467810917  Mon Apr 06 22:19:53 PDT 2009         mattycus   \n",
       "3       0  1467811184  Mon Apr 06 22:19:57 PDT 2009          ElleCTF   \n",
       "4       0  1467811193  Mon Apr 06 22:19:57 PDT 2009           Karoli   \n",
       "5       0  1467811372  Mon Apr 06 22:20:00 PDT 2009         joy_wolf   \n",
       "\n",
       "                                                text  \n",
       "0  @switchfoot http://twitpic.com/2y1zl - Awww, t...  \n",
       "1  is upset that he can't update his Facebook by ...  \n",
       "2  @Kenichan I dived many times for the ball. Man...  \n",
       "3    my whole body feels itchy and like its on fire   \n",
       "4  @nationwideclass no, it's not behaving at all....  \n",
       "5                      @Kwesidei not the whole crew   "
      ]
     },
     "execution_count": 5,
     "metadata": {},
     "output_type": "execute_result"
    }
   ],
   "source": [
    "df.head(6)"
   ]
  },
  {
   "cell_type": "code",
   "execution_count": 6,
   "metadata": {},
   "outputs": [
    {
     "data": {
      "text/html": [
       "<div>\n",
       "<style scoped>\n",
       "    .dataframe tbody tr th:only-of-type {\n",
       "        vertical-align: middle;\n",
       "    }\n",
       "\n",
       "    .dataframe tbody tr th {\n",
       "        vertical-align: top;\n",
       "    }\n",
       "\n",
       "    .dataframe thead th {\n",
       "        text-align: right;\n",
       "    }\n",
       "</style>\n",
       "<table border=\"1\" class=\"dataframe\">\n",
       "  <thead>\n",
       "    <tr style=\"text-align: right;\">\n",
       "      <th></th>\n",
       "      <th>target</th>\n",
       "      <th>id</th>\n",
       "      <th>date</th>\n",
       "      <th>user</th>\n",
       "      <th>text</th>\n",
       "    </tr>\n",
       "  </thead>\n",
       "  <tbody>\n",
       "    <tr>\n",
       "      <th>99995</th>\n",
       "      <td>4</td>\n",
       "      <td>1693956088</td>\n",
       "      <td>Mon May 04 00:27:13 PDT 2009</td>\n",
       "      <td>FelineBred</td>\n",
       "      <td>@jvdouglas  haha, no, the remark on maternity ...</td>\n",
       "    </tr>\n",
       "    <tr>\n",
       "      <th>99996</th>\n",
       "      <td>4</td>\n",
       "      <td>1693956096</td>\n",
       "      <td>Mon May 04 00:27:14 PDT 2009</td>\n",
       "      <td>softthistle</td>\n",
       "      <td>@altitis and to you!</td>\n",
       "    </tr>\n",
       "    <tr>\n",
       "      <th>99997</th>\n",
       "      <td>4</td>\n",
       "      <td>1693956099</td>\n",
       "      <td>Mon May 04 00:27:14 PDT 2009</td>\n",
       "      <td>elysion32</td>\n",
       "      <td>Okie doke!! Time for me to escape for the Nort...</td>\n",
       "    </tr>\n",
       "    <tr>\n",
       "      <th>99998</th>\n",
       "      <td>4</td>\n",
       "      <td>1693956134</td>\n",
       "      <td>Mon May 04 00:27:14 PDT 2009</td>\n",
       "      <td>fancyjessy</td>\n",
       "      <td>finished the lessons, hooray!</td>\n",
       "    </tr>\n",
       "    <tr>\n",
       "      <th>99999</th>\n",
       "      <td>4</td>\n",
       "      <td>1693956160</td>\n",
       "      <td>Mon May 04 00:27:14 PDT 2009</td>\n",
       "      <td>noraezan</td>\n",
       "      <td>Some ppl are just fucking KP0. Cb ! Stop askin...</td>\n",
       "    </tr>\n",
       "  </tbody>\n",
       "</table>\n",
       "</div>"
      ],
      "text/plain": [
       "       target          id                          date         user  \\\n",
       "99995       4  1693956088  Mon May 04 00:27:13 PDT 2009   FelineBred   \n",
       "99996       4  1693956096  Mon May 04 00:27:14 PDT 2009  softthistle   \n",
       "99997       4  1693956099  Mon May 04 00:27:14 PDT 2009    elysion32   \n",
       "99998       4  1693956134  Mon May 04 00:27:14 PDT 2009   fancyjessy   \n",
       "99999       4  1693956160  Mon May 04 00:27:14 PDT 2009     noraezan   \n",
       "\n",
       "                                                    text  \n",
       "99995  @jvdouglas  haha, no, the remark on maternity ...  \n",
       "99996                              @altitis and to you!   \n",
       "99997  Okie doke!! Time for me to escape for the Nort...  \n",
       "99998                     finished the lessons, hooray!   \n",
       "99999  Some ppl are just fucking KP0. Cb ! Stop askin...  "
      ]
     },
     "execution_count": 6,
     "metadata": {},
     "output_type": "execute_result"
    }
   ],
   "source": [
    "df.tail(5)"
   ]
  },
  {
   "cell_type": "code",
   "execution_count": 7,
   "metadata": {},
   "outputs": [
    {
     "name": "stdout",
     "output_type": "stream",
     "text": [
      "Dataset size: 200000\n"
     ]
    }
   ],
   "source": [
    "print(\"Dataset size:\", len(df))"
   ]
  },
  {
   "cell_type": "code",
   "execution_count": 113,
   "metadata": {},
   "outputs": [],
   "source": [
    "class Visualize:\n",
    "    \n",
    "    @classmethod\n",
    "    def plot_bar(self, target):\n",
    "        dict_target = Counter(df.target) # Counter(['a','a','b','a']) => returns {'a': 3, 'b': 1}\n",
    "        plt.figure(figsize=(16,8))\n",
    "        plt.bar(dict_target.keys(), dict_target.values())\n",
    "        plt.title(\"Dataset labels distribuition\")\n",
    "        \n",
    "    @classmethod\n",
    "    def plot_accuracy(self, history):\n",
    "        acc = history.history['accuracy']\n",
    "        val_acc = history.history['val_accuracy']\n",
    "        loss = history.history['loss']\n",
    "        val_loss = history.history['val_loss']\n",
    "\n",
    "        epochs = range(len(acc))\n",
    "        f = plt.figure(figsize=(16,5))\n",
    "        ax1 = f.add_subplot(121)\n",
    "        ax2 = f.add_subplot(122)\n",
    "\n",
    "        ax1.plot(epochs, acc, 'b', label='Training acc')\n",
    "        ax1.plot(epochs, val_acc, 'r', label='Validation acc')\n",
    "        ax1.set_title('Training and validation accuracy')\n",
    "        ax1.legend()\n",
    "\n",
    "        ax2.plot(epochs, loss, 'b', label='Training loss')\n",
    "        ax2.plot(epochs, val_loss, 'r', label='Validation loss')\n",
    "        ax2.set_title('Training and validation loss')\n",
    "        ax2.legend()\n",
    "        plt.show()\n",
    "    \n",
    "    @classmethod\n",
    "    def plot_confusion_matrix(self, cnf_matrix):\n",
    "        f = plt.figure(figsize=(14,10))\n",
    "        ax = f.add_subplot()\n",
    "        sns.heatmap(cnf_matrix, annot=True, ax = ax)\n",
    "        ax.set_xlabel('Predicted labels', fontsize=28)\n",
    "        ax.set_ylabel('True labels', fontsize=28) \n",
    "        ax.set_title('Confusion Matrix',fontsize=40)\n",
    "        ax.xaxis.set_ticklabels(['POSITIVE','NEGATIVE'], rotation=90, fontsize=25)\n",
    "        ax.yaxis.set_ticklabels(['POSITIVE','NEGATIVE'],rotation=360, fontsize=25)\n",
    "        plt.show()\n",
    "    \n",
    "    @classmethod\n",
    "    def plot_displot(self,df):\n",
    "        Y = df[\"date\"].str[8:10].astype(int)\n",
    "        Z = df[\"date\"].str[4:10] \n",
    "        s = sns.displot(df, x=\"target\", y=Y, hue=Z, binwidth=(2, 2))\n",
    "        plt.yticks([1,2,6,7,17,18,19,20,21])\n",
    "        plt.ylabel(\"Time (24h)\")\n",
    "        plt.xlabel(\"Sentiment\")\n",
    "        plt.title(\"Distribution of sentiments across 24h for specific dates\")\n",
    "        plt.show()\n",
    "        \n",
    "    \n",
    "    @classmethod\n",
    "    def most_frequent_words(self, documents):\n",
    "        document = [word for i in range(len(documents)) for word in documents[i]]\n",
    "        word_frequency = Counter(document)\n",
    "        k = sorted(word_frequency, key=word_frequency.get, reverse=True)[:10]\n",
    "        print(k)\n",
    "        \n",
    "    @classmethod\n",
    "    def get_accuracy(self,y_test, y_pred):\n",
    "        print(accuracy_score(y_test, y_pred))\n",
    "    \n",
    "    @classmethod\n",
    "    def classification_report(self, y_true, y_predicted):\n",
    "        print(classification_report(y_true, y_predicted))"
   ]
  },
  {
   "cell_type": "code",
   "execution_count": 9,
   "metadata": {},
   "outputs": [],
   "source": [
    "class Preprocessing:\n",
    "    \n",
    "    @classmethod\n",
    "    def _decode_sentiment(self, target):\n",
    "        def _getLabel(label):\n",
    "            return SENTIMENTS[int(label)]\n",
    "        return target.apply(lambda x: _getLabel(x))\n",
    "    \n",
    "    @classmethod\n",
    "    def _data_preprocessing(self, text):\n",
    "        def clean_text(text):\n",
    "            stop_words = stopwords.words(\"english\")\n",
    "            stemmer = SnowballStemmer(\"english\")\n",
    "            # Remove link and numbers, special characters\n",
    "            text = re.sub(\"@\\S+|https?:\\S+|http?:\\S|[^A-Za-z0-9]+|\\d+\", ' ', str(text).lower()).strip()\n",
    "            words = []\n",
    "            for word in text.split():\n",
    "                if word not in stop_words:\n",
    "                    #Stemmers remove morphological affixes from words, leaving only the word stem.\n",
    "                    words.append(stemmer.stem(word)) \n",
    "            return \" \".join(words)\n",
    "        return text.apply(lambda x: clean_text(x))   "
   ]
  },
  {
   "cell_type": "markdown",
   "metadata": {},
   "source": [
    "# Preprocessing phase"
   ]
  },
  {
   "cell_type": "code",
   "execution_count": 10,
   "metadata": {},
   "outputs": [
    {
     "data": {
      "text/plain": [
       "0    NEGATIVE\n",
       "1    NEGATIVE\n",
       "2    NEGATIVE\n",
       "Name: target, dtype: object"
      ]
     },
     "execution_count": 10,
     "metadata": {},
     "output_type": "execute_result"
    }
   ],
   "source": [
    "df.target = Preprocessing._decode_sentiment(df.target)\n",
    "df.target[:3]"
   ]
  },
  {
   "cell_type": "code",
   "execution_count": 11,
   "metadata": {},
   "outputs": [
    {
     "data": {
      "image/png": "[encoded data removed]",
      "text/plain": [
       "<Figure size 1152x576 with 1 Axes>"
      ]
     },
     "metadata": {
      "needs_background": "light"
     },
     "output_type": "display_data"
    }
   ],
   "source": [
    "Visualize.plot_bar(df.target)"
   ]
  },
  {
   "cell_type": "code",
   "execution_count": 12,
   "metadata": {},
   "outputs": [
    {
     "data": {
      "image/png": "[encoded data removed]",
      "text/plain": [
       "<Figure size 432.5x360 with 1 Axes>"
      ]
     },
     "metadata": {
      "needs_background": "light"
     },
     "output_type": "display_data"
    }
   ],
   "source": [
    "Visualize.plot_displot(df)"
   ]
  },
  {
   "cell_type": "code",
   "execution_count": 13,
   "metadata": {},
   "outputs": [
    {
     "data": {
      "text/plain": [
       "20                                    day get much done\n",
       "21    one friend call ask meet mid valley today time...\n",
       "22                                        bake cake ate\n",
       "23                                         week go hope\n",
       "24                                 blagh class tomorrow\n",
       "25                                 hate call wake peopl\n",
       "26                            go cri sleep watch marley\n",
       "27                                    im sad miss lilli\n",
       "28                     ooooh lol lesli ok lesli get mad\n",
       "29    meh almost lover except track get depress ever...\n",
       "Name: text, dtype: object"
      ]
     },
     "execution_count": 13,
     "metadata": {},
     "output_type": "execute_result"
    }
   ],
   "source": [
    "df.text = Preprocessing._data_preprocessing(df.text)\n",
    "df.text[20:30]"
   ]
  },
  {
   "cell_type": "code",
   "execution_count": 14,
   "metadata": {},
   "outputs": [
    {
     "data": {
      "text/plain": [
       "target    0\n",
       "id        0\n",
       "date      0\n",
       "user      0\n",
       "text      0\n",
       "dtype: int64"
      ]
     },
     "execution_count": 14,
     "metadata": {},
     "output_type": "execute_result"
    }
   ],
   "source": [
    "df.isnull().sum()"
   ]
  },
  {
   "cell_type": "markdown",
   "metadata": {},
   "source": [
    "# Split train and test"
   ]
  },
  {
   "cell_type": "code",
   "execution_count": 15,
   "metadata": {},
   "outputs": [
    {
     "name": "stdout",
     "output_type": "stream",
     "text": [
      "Train size: 160000\n",
      "Test size: 40000\n"
     ]
    }
   ],
   "source": [
    "df_train, df_test = train_test_split(df, test_size=0.2, random_state=42)\n",
    "print(\"Train size:\", len(df_train))\n",
    "print(\"Test size:\", len(df_test))"
   ]
  },
  {
   "cell_type": "markdown",
   "metadata": {},
   "source": [
    "# Word2Vec\n",
    "\n",
    "Word2Vec can be used to find the relations between words in a dataset, compute the similarity between them, or use the vector representation of those words as input for other applications such as text classification like in our case."
   ]
  },
  {
   "cell_type": "code",
   "execution_count": 16,
   "metadata": {},
   "outputs": [
    {
     "data": {
      "text/plain": [
       "[['club',\n",
       "  'slower',\n",
       "  'usual',\n",
       "  'nite',\n",
       "  'vibe',\n",
       "  'incred',\n",
       "  'real',\n",
       "  'happi',\n",
       "  'ubzz',\n",
       "  'divers',\n",
       "  'set',\n",
       "  'threw',\n",
       "  'dj'],\n",
       " ['pleas', 'tell', 'dame', 'isnt', 'rap', 'lemm', 'see', 'cover', 'whenev']]"
      ]
     },
     "execution_count": 16,
     "metadata": {},
     "output_type": "execute_result"
    }
   ],
   "source": [
    "documents = [_text.split() for _text in df_train.text] \n",
    "documents[0:2]"
   ]
  },
  {
   "cell_type": "code",
   "execution_count": 17,
   "metadata": {},
   "outputs": [
    {
     "name": "stdout",
     "output_type": "stream",
     "text": [
      "['go', 'day', 'get', 'good', 'work', 'like', 'love', 'today', 'quot', 'time']\n"
     ]
    }
   ],
   "source": [
    "Visualize.most_frequent_words(documents)"
   ]
  },
  {
   "cell_type": "markdown",
   "metadata": {},
   "source": [
    "### I seperated the training of the model in 3 steps for clarity:\n",
    "1- setting up Word2Vec parameters:<br>\n",
    "       I have set up the model parameters one-by-one in this first step.\n",
    "      \n",
    "    \n",
    "2- build_vocab<br>\n",
    "       This builds the vocabulary from a collection of sentences and hence initializes the model. \n",
    "    \n",
    "3- train<br>\n",
    "       Eventually, the model training. \n"
   ]
  },
  {
   "cell_type": "markdown",
   "metadata": {},
   "source": [
    "### Description of parameters\n",
    "\n",
    "window -> int : Represents the maximum distance between the current and predicted word within a sentence.<br>\n",
    "min_count: -> int : Ignores all words with absolute total frequency lower than min_count parameter.<br>\n",
    "size -> int : Represents the dimensionality of the feature vectors.<br>\n",
    "workers -> int : number of worker-threads to train the model.<br>\n"
   ]
  },
  {
   "cell_type": "code",
   "execution_count": 18,
   "metadata": {},
   "outputs": [
    {
     "name": "stdout",
     "output_type": "stream",
     "text": [
      "my pc has: 12 cores\n"
     ]
    }
   ],
   "source": [
    "import multiprocessing\n",
    "print(f\"my pc has: {multiprocessing.cpu_count()} cores\")"
   ]
  },
  {
   "cell_type": "code",
   "execution_count": 19,
   "metadata": {},
   "outputs": [],
   "source": [
    "w2v_model = gensim.models.word2vec.Word2Vec(size=W2V_SIZE, \n",
    "                                            window=W2V_WINDOW, \n",
    "                                            min_count=W2V_MIN_COUNT, \n",
    "                                            workers=11)"
   ]
  },
  {
   "cell_type": "code",
   "execution_count": 20,
   "metadata": {},
   "outputs": [],
   "source": [
    "w2v_model.build_vocab(documents, progress_per=10000)"
   ]
  },
  {
   "cell_type": "code",
   "execution_count": 21,
   "metadata": {
    "scrolled": true
   },
   "outputs": [
    {
     "data": {
      "text/plain": [
       "(29854103, 36029312)"
      ]
     },
     "execution_count": 21,
     "metadata": {},
     "output_type": "execute_result"
    }
   ],
   "source": [
    "w2v_model.train(documents, total_examples=w2v_model.corpus_count, epochs=W2V_EPOCH)"
   ]
  },
  {
   "cell_type": "code",
   "execution_count": 22,
   "metadata": {},
   "outputs": [
    {
     "name": "stderr",
     "output_type": "stream",
     "text": [
      "<ipython-input-22-9e1a4c826e7b>:1: DeprecationWarning: Call to deprecated `most_similar` (Method will be removed in 4.0.0, use self.wv.most_similar() instead).\n",
      "  w2v_model.most_similar(\"love\")\n"
     ]
    },
    {
     "data": {
      "text/plain": [
       "[('awsom', 0.4674363434314728),\n",
       " ('luv', 0.4454992413520813),\n",
       " ('amaz', 0.398148775100708),\n",
       " ('awesom', 0.39132437109947205),\n",
       " ('jonasbroth', 0.37164437770843506),\n",
       " ('lovin', 0.34920457005500793),\n",
       " ('mariah', 0.34891924262046814),\n",
       " ('great', 0.3485202491283417),\n",
       " ('lovee', 0.33876633644104004),\n",
       " ('ador', 0.33693361282348633)]"
      ]
     },
     "execution_count": 22,
     "metadata": {},
     "output_type": "execute_result"
    }
   ],
   "source": [
    "w2v_model.most_similar(\"love\")"
   ]
  },
  {
   "cell_type": "code",
   "execution_count": 23,
   "metadata": {},
   "outputs": [
    {
     "data": {
      "text/plain": [
       "array([ 1.5972192 ,  1.0236028 ,  0.29360062, -2.3576953 , -0.8104026 ,\n",
       "       -0.21374042, -1.2245867 , -0.51240546,  0.95114225, -0.7365406 ,\n",
       "       -0.21174094, -0.33666667,  0.5845366 ,  0.92113817,  0.9962211 ,\n",
       "       -0.56285197,  0.7752473 ,  1.6728182 , -0.9624558 , -0.46202782,\n",
       "       -0.54469466, -0.4853729 ,  1.7273546 ,  0.22486146, -1.5046512 ,\n",
       "        0.96058667, -0.6680073 , -2.8639636 ,  1.5655768 , -0.40725192,\n",
       "        0.07499909,  0.84226215, -1.3518114 , -1.2019107 , -0.66562337,\n",
       "       -0.5165853 ,  1.0350541 , -0.20363854, -1.6506441 ,  1.9267497 ,\n",
       "        0.43774104,  1.8512762 ,  0.74954   ,  0.6327625 , -0.00484158,\n",
       "       -0.4906937 , -1.4513677 , -0.30858752, -0.88469183, -1.153848  ,\n",
       "       -0.69359165, -0.8582059 ,  1.207291  ,  0.6816094 , -0.47027168,\n",
       "       -0.9519814 ,  0.7311964 , -0.6896069 ,  1.738748  ,  0.38391307,\n",
       "        1.4268942 , -0.57446027,  0.24002989, -0.64661306, -0.57066983,\n",
       "       -0.97304577,  0.08752079, -1.0077964 , -0.09991288, -0.23231483,\n",
       "        0.43976653, -0.84677714, -1.131835  , -1.095393  , -0.22012633,\n",
       "       -0.7139319 , -0.49902445,  0.00325194,  0.39307612,  0.43333036,\n",
       "        0.8438294 ,  1.35635   , -0.7729903 ,  0.43189296,  0.818252  ,\n",
       "        0.6243552 ,  1.5502731 , -0.68504244,  0.92118174,  1.4834908 ,\n",
       "       -0.52526045, -0.49376005, -0.09129591,  0.71608645,  0.518837  ,\n",
       "       -0.9626281 ,  0.5665709 ,  0.578277  ,  0.38745898,  1.4437599 ,\n",
       "       -1.2713697 ,  0.33074158,  0.7748696 ,  0.32421863, -0.22869726,\n",
       "       -1.0920997 , -2.4379735 , -0.09280671, -1.2773393 ,  0.48620856,\n",
       "       -0.38565174, -0.5929696 ,  0.6161279 , -0.14595322,  0.2164218 ,\n",
       "        0.9756194 , -1.1824083 ,  0.6321491 , -0.8138647 ,  1.53719   ,\n",
       "       -0.16075547,  0.29227573, -1.1033541 ,  0.17990953,  0.8034598 ,\n",
       "        1.5577133 , -0.69960636, -0.29260814, -0.84013087,  1.4817398 ,\n",
       "       -2.5965185 , -0.32752162,  0.34899813,  0.5531316 , -0.83717066,\n",
       "       -1.4960229 ,  2.3052216 , -0.21116304,  0.25045335,  0.4726615 ,\n",
       "        0.9518059 ,  0.27832487, -0.81556535,  0.4322678 ,  0.88623816,\n",
       "        0.2002505 ,  0.36371356, -0.01772598,  1.782612  ,  1.7228776 ,\n",
       "       -0.10794172, -0.24269925, -0.72338414,  0.08413055, -1.2625161 ,\n",
       "        0.28045478,  0.7473851 ,  0.5927881 ,  0.65970296, -1.0378784 ,\n",
       "       -0.12141187, -0.6061609 , -0.7798288 , -0.76970214, -0.11215707,\n",
       "       -0.0629683 , -0.37275222,  1.1359692 , -1.7361565 ,  0.22966598,\n",
       "        1.1532636 ,  0.3675954 ,  1.6100549 , -0.36669654, -0.8180473 ,\n",
       "       -0.85984623, -0.01935988,  0.56222254,  0.16351014, -1.3217541 ,\n",
       "        0.6600373 ,  0.92088693, -0.23147991,  0.5228807 , -0.03434909,\n",
       "        1.325917  ,  0.06560372, -0.81404436,  1.0000122 ,  1.4056801 ,\n",
       "       -1.3120998 ,  0.519853  ,  1.872538  , -0.4781685 ,  1.7939285 ,\n",
       "        0.8140213 ,  0.67314905,  1.3480303 ,  1.2322667 , -0.5418117 ],\n",
       "      dtype=float32)"
      ]
     },
     "execution_count": 23,
     "metadata": {},
     "output_type": "execute_result"
    }
   ],
   "source": [
    "w2v_model.wv[\"hello\"]"
   ]
  },
  {
   "cell_type": "code",
   "execution_count": 24,
   "metadata": {},
   "outputs": [],
   "source": [
    "# w2v_model.save(\"model.w2v\")"
   ]
  },
  {
   "cell_type": "markdown",
   "metadata": {},
   "source": [
    "# Classifier Part"
   ]
  },
  {
   "cell_type": "code",
   "execution_count": 25,
   "metadata": {},
   "outputs": [],
   "source": [
    "def transform_X(df_train, df_test):\n",
    "    tokenizer = Tokenizer()\n",
    "    tokenizer.fit_on_texts(df_train.text) \n",
    "#     1- tokenizer.fit_on_texts(\"The earth is an awesome place live\") fits [[1,2,3,4,5,6,7]] \n",
    "#     where 3 -> \"is\" , 6 -> \"place\", so on.\n",
    "#     2- texts_to_sequences: Does the same thing as fir_on_text but Only words known by the tokenizer \n",
    "#     will be taken into account.\n",
    "#     3- pad_sequences: transforms a list (of length num_samples) of sequences (lists of integers) \n",
    "#     into a 2D Numpy array of shape (num_samples, num_timesteps), num_timsteps is the maxlen argument in our case\n",
    "    x_fit_train = pad_sequences(tokenizer.texts_to_sequences(df_train.text), maxlen=200)\n",
    "    x_fit_test = pad_sequences(tokenizer.texts_to_sequences(df_test.text), maxlen=200)\n",
    "    return x_fit_train, x_fit_test, tokenizer"
   ]
  },
  {
   "cell_type": "code",
   "execution_count": 26,
   "metadata": {},
   "outputs": [],
   "source": [
    "def transform_Y(df_train, df_test):\n",
    "    encoder = LabelEncoder()\n",
    "    encoder.fit(df_train.target.tolist())\n",
    "#     LabelEncoder : Encode target labels Y with value between 0 and n_classes-1\n",
    "\n",
    "    y_train = encoder.transform(df_train.target.tolist()).reshape(-1,1)\n",
    "    y_test = encoder.transform(df_test.target.tolist()).reshape(-1,1)\n",
    "    \n",
    "    return y_train, y_test, encoder\n",
    "    "
   ]
  },
  {
   "cell_type": "code",
   "execution_count": 27,
   "metadata": {},
   "outputs": [],
   "source": [
    "x_fit_train, x_fit_test, tokenizer = transform_X(df_train, df_test)"
   ]
  },
  {
   "cell_type": "code",
   "execution_count": 28,
   "metadata": {},
   "outputs": [],
   "source": [
    "# pickle.dump(tokenizer, open(\"tokenizer.pkl\", \"wb\"), protocol=0)"
   ]
  },
  {
   "cell_type": "code",
   "execution_count": 29,
   "metadata": {},
   "outputs": [],
   "source": [
    "y_fit_train, y_fit_test, encoder = transform_Y(df_train, df_test)"
   ]
  },
  {
   "cell_type": "code",
   "execution_count": 30,
   "metadata": {},
   "outputs": [],
   "source": [
    "# pickle.dump(encoder, open(\"encoder.pkl\", \"wb\"), protocol=0)"
   ]
  },
  {
   "cell_type": "code",
   "execution_count": 31,
   "metadata": {},
   "outputs": [
    {
     "data": {
      "text/plain": [
       "array([[1],\n",
       "       [0],\n",
       "       [1],\n",
       "       ...,\n",
       "       [1],\n",
       "       [1],\n",
       "       [1]])"
      ]
     },
     "execution_count": 31,
     "metadata": {},
     "output_type": "execute_result"
    }
   ],
   "source": [
    "y_fit_train"
   ]
  },
  {
   "cell_type": "markdown",
   "metadata": {},
   "source": [
    "### Building the Embedding layer"
   ]
  },
  {
   "cell_type": "code",
   "execution_count": 32,
   "metadata": {},
   "outputs": [],
   "source": [
    "vocab_size = len(tokenizer.word_index) + 1"
   ]
  },
  {
   "cell_type": "code",
   "execution_count": 33,
   "metadata": {},
   "outputs": [],
   "source": [
    "def embedding_matrix(tokenizer, w2v_model):\n",
    "    embedding_matrix = np.zeros((vocab_size, W2V_SIZE))\n",
    "    for word, i in tokenizer.word_index.items():\n",
    "        if word in w2v_model.wv:\n",
    "            embedding_matrix[i] = w2v_model.wv[word]\n",
    "    return embedding_matrix"
   ]
  },
  {
   "cell_type": "code",
   "execution_count": 34,
   "metadata": {},
   "outputs": [],
   "source": [
    "embedding_layer = Embedding(vocab_size, W2V_SIZE, weights=[embedding_matrix(tokenizer, w2v_model)], input_length=SEQUENCE_LENGTH, trainable=False)"
   ]
  },
  {
   "cell_type": "markdown",
   "metadata": {},
   "source": [
    "## Build model "
   ]
  },
  {
   "cell_type": "code",
   "execution_count": 35,
   "metadata": {},
   "outputs": [
    {
     "name": "stdout",
     "output_type": "stream",
     "text": [
      "Model: \"sequential\"\n",
      "_________________________________________________________________\n",
      "Layer (type)                 Output Shape              Param #   \n",
      "=================================================================\n",
      "embedding (Embedding)        (None, 200, 200)          11480800  \n",
      "_________________________________________________________________\n",
      "dropout (Dropout)            (None, 200, 200)          0         \n",
      "_________________________________________________________________\n",
      "lstm (LSTM)                  (None, 100)               120400    \n",
      "_________________________________________________________________\n",
      "dense (Dense)                (None, 1)                 101       \n",
      "=================================================================\n",
      "Total params: 11,601,301\n",
      "Trainable params: 120,501\n",
      "Non-trainable params: 11,480,800\n",
      "_________________________________________________________________\n"
     ]
    }
   ],
   "source": [
    "model = Sequential()\n",
    "model.add(embedding_layer)\n",
    "model.add(Dropout(0.5))\n",
    "model.add(LSTM(100, dropout=0.2, recurrent_dropout=0.2))\n",
    "model.add(Dense(1, activation='sigmoid'))\n",
    "\n",
    "model.summary()"
   ]
  },
  {
   "cell_type": "markdown",
   "metadata": {},
   "source": [
    "### Model compile"
   ]
  },
  {
   "cell_type": "code",
   "execution_count": 36,
   "metadata": {},
   "outputs": [],
   "source": [
    "model.compile(loss='binary_crossentropy',\n",
    "              optimizer=\"adam\",\n",
    "              metrics=['accuracy'])"
   ]
  },
  {
   "cell_type": "markdown",
   "metadata": {},
   "source": [
    "### Callbacks"
   ]
  },
  {
   "cell_type": "code",
   "execution_count": 37,
   "metadata": {},
   "outputs": [],
   "source": [
    "callbacks = [ReduceLROnPlateau(monitor='val_loss', patience=5, cooldown=0),\n",
    "              EarlyStopping(monitor='val_acc', min_delta=1e-4, patience=5)]"
   ]
  },
  {
   "cell_type": "markdown",
   "metadata": {},
   "source": [
    "### Model train"
   ]
  },
  {
   "cell_type": "code",
   "execution_count": 38,
   "metadata": {},
   "outputs": [
    {
     "name": "stdout",
     "output_type": "stream",
     "text": [
      "Epoch 1/8\n",
      "480/480 [==============================] - 349s 722ms/step - loss: 0.5770 - accuracy: 0.6912 - val_loss: 0.5588 - val_accuracy: 0.6989\n",
      "WARNING:tensorflow:Early stopping conditioned on metric `val_acc` which is not available. Available metrics are: loss,accuracy,val_loss,val_accuracy,lr\n",
      "Epoch 2/8\n",
      "480/480 [==============================] - 676s 1s/step - loss: 0.5501 - accuracy: 0.7202 - val_loss: 0.5013 - val_accuracy: 0.7511\n",
      "WARNING:tensorflow:Early stopping conditioned on metric `val_acc` which is not available. Available metrics are: loss,accuracy,val_loss,val_accuracy,lr\n",
      "Epoch 3/8\n",
      "480/480 [==============================] - 751s 2s/step - loss: 0.5242 - accuracy: 0.7366 - val_loss: 0.4961 - val_accuracy: 0.7570\n",
      "WARNING:tensorflow:Early stopping conditioned on metric `val_acc` which is not available. Available metrics are: loss,accuracy,val_loss,val_accuracy,lr\n",
      "Epoch 4/8\n",
      "480/480 [==============================] - 583s 1s/step - loss: 0.5109 - accuracy: 0.7468 - val_loss: 0.4995 - val_accuracy: 0.7591\n",
      "WARNING:tensorflow:Early stopping conditioned on metric `val_acc` which is not available. Available metrics are: loss,accuracy,val_loss,val_accuracy,lr\n",
      "Epoch 5/8\n",
      "480/480 [==============================] - 380s 792ms/step - loss: 0.5081 - accuracy: 0.7467 - val_loss: 0.4952 - val_accuracy: 0.7597\n",
      "WARNING:tensorflow:Early stopping conditioned on metric `val_acc` which is not available. Available metrics are: loss,accuracy,val_loss,val_accuracy,lr\n",
      "Epoch 6/8\n",
      "480/480 [==============================] - 412s 859ms/step - loss: 0.5051 - accuracy: 0.7498 - val_loss: 0.4953 - val_accuracy: 0.7640\n",
      "WARNING:tensorflow:Early stopping conditioned on metric `val_acc` which is not available. Available metrics are: loss,accuracy,val_loss,val_accuracy,lr\n",
      "Epoch 7/8\n",
      "480/480 [==============================] - 355s 741ms/step - loss: 0.4995 - accuracy: 0.7540 - val_loss: 0.4918 - val_accuracy: 0.7646\n",
      "WARNING:tensorflow:Early stopping conditioned on metric `val_acc` which is not available. Available metrics are: loss,accuracy,val_loss,val_accuracy,lr\n",
      "Epoch 8/8\n",
      "480/480 [==============================] - 357s 744ms/step - loss: 0.4977 - accuracy: 0.7555 - val_loss: 0.4932 - val_accuracy: 0.7663\n",
      "WARNING:tensorflow:Early stopping conditioned on metric `val_acc` which is not available. Available metrics are: loss,accuracy,val_loss,val_accuracy,lr\n"
     ]
    }
   ],
   "source": [
    "history = model.fit(x_fit_train, y_fit_train,\n",
    "                    batch_size=BATCH_SIZE,\n",
    "                    epochs=EPOCHS,\n",
    "                    validation_split=0.1,\n",
    "                    verbose=1,\n",
    "                    callbacks=callbacks)"
   ]
  },
  {
   "cell_type": "code",
   "execution_count": 39,
   "metadata": {},
   "outputs": [],
   "source": [
    "# model.save(\"model.h5\")"
   ]
  },
  {
   "cell_type": "code",
   "execution_count": 40,
   "metadata": {},
   "outputs": [],
   "source": [
    "def predict(text):\n",
    "    # Tokenize text\n",
    "    x_test = pad_sequences(tokenizer.texts_to_sequences([text]), maxlen=SEQUENCE_LENGTH)\n",
    "#     x_test = w2v_model.wv[text]\n",
    "    # Predict\n",
    "    score = model.predict([x_test])[0]\n",
    "    # Decode sentiment\n",
    "    if score <= SENTIMENT_THRESHOLDS[0]:\n",
    "        return \"NEGATIVE\"\n",
    "    elif score >= SENTIMENT_THRESHOLDS[1]:\n",
    "        return \"POSITIVE\"\n",
    "    else:\n",
    "        return \"NEUTRAL\""
   ]
  },
  {
   "cell_type": "code",
   "execution_count": 41,
   "metadata": {},
   "outputs": [
    {
     "name": "stdout",
     "output_type": "stream",
     "text": [
      "134/134 [==============================] - 24s 177ms/step - loss: 0.4889 - accuracy: 0.7664\n",
      "Accuracy: 0.7663999795913696\t\t Loss: 0.48891010880470276\n"
     ]
    }
   ],
   "source": [
    "score = model.evaluate(x_fit_test, y_fit_test, batch_size=BATCH_SIZE)\n",
    "print(f\"Accuracy: {score[1]}\\t\\t Loss: {score[0]}\")\n"
   ]
  },
  {
   "cell_type": "code",
   "execution_count": 42,
   "metadata": {},
   "outputs": [
    {
     "data": {
      "text/plain": [
       "'POSITIVE'"
      ]
     },
     "execution_count": 42,
     "metadata": {},
     "output_type": "execute_result"
    }
   ],
   "source": [
    "predict(\"I love listening to music\")"
   ]
  },
  {
   "cell_type": "markdown",
   "metadata": {},
   "source": [
    "## Perfaormance mesure"
   ]
  },
  {
   "cell_type": "code",
   "execution_count": 43,
   "metadata": {},
   "outputs": [],
   "source": [
    "from sklearn.metrics import multilabel_confusion_matrix"
   ]
  },
  {
   "cell_type": "code",
   "execution_count": 44,
   "metadata": {},
   "outputs": [],
   "source": [
    "decode = lambda score: \"NEGATIVE\" if score < 0.5 else \"POSITIVE\""
   ]
  },
  {
   "cell_type": "code",
   "execution_count": 115,
   "metadata": {},
   "outputs": [],
   "source": [
    "y_true = list(df_test.target)\n",
    "scores = model.predict(x_fit_test, batch_size=200)\n",
    "y_predicted = [decode(score) for score in scores]"
   ]
  },
  {
   "cell_type": "code",
   "execution_count": 116,
   "metadata": {},
   "outputs": [
    {
     "data": {
      "image/png": "[encoded data removed]",
      "text/plain": [
       "<Figure size 1008x720 with 2 Axes>"
      ]
     },
     "metadata": {
      "needs_background": "light"
     },
     "output_type": "display_data"
    }
   ],
   "source": [
    "cnf_matrix = confusion_matrix(y_true, y_predicted)\n",
    "Visualize.plot_confusion_matrix(cnf_matrix)"
   ]
  },
  {
   "cell_type": "code",
   "execution_count": 47,
   "metadata": {},
   "outputs": [
    {
     "data": {
      "image/png": "[encoded data removed]",
      "text/plain": [
       "<Figure size 1152x360 with 2 Axes>"
      ]
     },
     "metadata": {
      "needs_background": "light"
     },
     "output_type": "display_data"
    }
   ],
   "source": [
    "Visualize.plot_accuracy(history)"
   ]
  },
  {
   "cell_type": "code",
   "execution_count": 48,
   "metadata": {},
   "outputs": [
    {
     "name": "stdout",
     "output_type": "stream",
     "text": [
      "0.7664\n"
     ]
    }
   ],
   "source": [
    "Visualize.get_accuracy(y_true, y_predicted)"
   ]
  },
  {
   "cell_type": "code",
   "execution_count": 49,
   "metadata": {},
   "outputs": [
    {
     "name": "stdout",
     "output_type": "stream",
     "text": [
      "              precision    recall  f1-score   support\n",
      "\n",
      "    NEGATIVE       0.77      0.76      0.76     19993\n",
      "    POSITIVE       0.76      0.78      0.77     20007\n",
      "\n",
      "    accuracy                           0.77     40000\n",
      "   macro avg       0.77      0.77      0.77     40000\n",
      "weighted avg       0.77      0.77      0.77     40000\n",
      "\n"
     ]
    }
   ],
   "source": [
    "Visualize.classification_report(y_true, y_predicted)"
   ]
  }
 ],
 "metadata": {
  "kernelspec": {
   "display_name": "Python 3",
   "language": "python",
   "name": "python3"
  },
  "language_info": {
   "codemirror_mode": {
    "name": "ipython",
    "version": 3
   },
   "file_extension": ".py",
   "mimetype": "text/x-python",
   "name": "python",
   "nbconvert_exporter": "python",
   "pygments_lexer": "ipython3",
   "version": "3.7.6"
  }
 },
 "nbformat": 4,
 "nbformat_minor": 4
}
